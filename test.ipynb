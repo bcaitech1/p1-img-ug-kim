{
 "cells": [
  {
   "cell_type": "code",
   "execution_count": 1,
   "id": "offshore-coral",
   "metadata": {},
   "outputs": [],
   "source": [
    "import time"
   ]
  },
  {
   "cell_type": "code",
   "execution_count": 2,
   "id": "actual-dance",
   "metadata": {},
   "outputs": [
    {
     "data": {
      "text/plain": [
       "'Tue Apr  6 17:35:17 2021'"
      ]
     },
     "execution_count": 2,
     "metadata": {},
     "output_type": "execute_result"
    }
   ],
   "source": [
    "time.strftime('%c', time.localtime(time.time()))"
   ]
  },
  {
   "cell_type": "code",
   "execution_count": 14,
   "id": "immune-inventory",
   "metadata": {},
   "outputs": [
    {
     "name": "stdout",
     "output_type": "stream",
     "text": [
      "Current Time is 4/7 17:39:38\n"
     ]
    }
   ],
   "source": [
    "utcnow= datetime.datetime.utcnow()\n",
    "time_gap= datetime.timedelta(hours=9)\n",
    "kor_time= utcnow + time_gap\n",
    "\n",
    "print(f\"Current Time is {kor_time.month}/{kor_time.day} {kor_time.hour}:{kor_time.minute}:{kor_time.second}\")"
   ]
  },
  {
   "cell_type": "code",
   "execution_count": 11,
   "id": "wireless-seller",
   "metadata": {},
   "outputs": [
    {
     "data": {
      "text/plain": [
       "2"
      ]
     },
     "execution_count": 11,
     "metadata": {},
     "output_type": "execute_result"
    }
   ],
   "source": [
    "kor_time.m"
   ]
  },
  {
   "cell_type": "code",
   "execution_count": null,
   "id": "eastern-mission",
   "metadata": {},
   "outputs": [],
   "source": []
  }
 ],
 "metadata": {
  "kernelspec": {
   "display_name": "Python 3",
   "language": "python",
   "name": "python3"
  },
  "language_info": {
   "codemirror_mode": {
    "name": "ipython",
    "version": 3
   },
   "file_extension": ".py",
   "mimetype": "text/x-python",
   "name": "python",
   "nbconvert_exporter": "python",
   "pygments_lexer": "ipython3",
   "version": "3.7.7"
  }
 },
 "nbformat": 4,
 "nbformat_minor": 5
}
